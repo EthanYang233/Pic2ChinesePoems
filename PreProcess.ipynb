{
 "cells": [
  {
   "cell_type": "code",
   "execution_count": 1,
   "metadata": {},
   "outputs": [],
   "source": [
    "# coding = utf-8\n",
    "import json\n",
    "import os\n",
    "import random\n",
    "import numpy as np\n",
    "from langconv import *\n",
    "from pypinyin import load_phrases_dict, Style, load_single_dict, lazy_pinyin"
   ]
  },
  {
   "cell_type": "code",
   "execution_count": 2,
   "metadata": {},
   "outputs": [],
   "source": [
    "random.seed(1)"
   ]
  },
  {
   "cell_type": "code",
   "execution_count": 3,
   "metadata": {},
   "outputs": [],
   "source": [
    "PATH = './chinese-poetry-master/json/'\n",
    "file_names = os.listdir(PATH)\n",
    "filenames = []\n",
    "for filename in file_names:\n",
    "    if (('tang' in filename) and ('poet' in filename)):\n",
    "        filenames.append(filename)\n",
    "#print(filenames[0])\n",
    "tang_poetry = []\n",
    "for filename in filenames:\n",
    "    with open(PATH+filename,'r',encoding='utf8')as f:\n",
    "        json_data = json.load(f)\n",
    "        tang_poetry.append(json_data)\n",
    "#print(tang_poetry[0])"
   ]
  },
  {
   "cell_type": "code",
   "execution_count": 4,
   "metadata": {},
   "outputs": [],
   "source": [
    "all_tang_poetry = []\n",
    "for file in tang_poetry:\n",
    "    for dic in file:\n",
    "        all_tang_poetry.append(dic)\n",
    "\n",
    "all_titles = []\n",
    "all_poems = []\n",
    "for poem in all_tang_poetry:\n",
    "    para = poem['paragraphs']\n",
    "    flag = False\n",
    "    for line in para:\n",
    "        if len(line) != 12:\n",
    "            flag = True\n",
    "    if flag :\n",
    "        continue\n",
    "    else:\n",
    "        all_titles.append(poem['title'])\n",
    "        all_poems.append(para)\n",
    "        \n",
    "    #if (len(para) >= 2):\n",
    "    #    if (len(para[0]) == 12):\n",
    "    #        all_titles.append(poem['title'])\n",
    "    #        all_poems.append(para)\n"
   ]
  },
  {
   "cell_type": "code",
   "execution_count": 5,
   "metadata": {},
   "outputs": [],
   "source": [
    "#all_titles"
   ]
  },
  {
   "cell_type": "code",
   "execution_count": 6,
   "metadata": {},
   "outputs": [
    {
     "data": {
      "text/plain": [
       "27355"
      ]
     },
     "execution_count": 6,
     "metadata": {},
     "output_type": "execute_result"
    }
   ],
   "source": [
    "len(all_titles)"
   ]
  },
  {
   "cell_type": "code",
   "execution_count": 7,
   "metadata": {},
   "outputs": [
    {
     "data": {
      "text/plain": [
       "27355"
      ]
     },
     "execution_count": 7,
     "metadata": {},
     "output_type": "execute_result"
    }
   ],
   "source": [
    "len(all_poems)"
   ]
  },
  {
   "cell_type": "code",
   "execution_count": 8,
   "metadata": {},
   "outputs": [
    {
     "data": {
      "text/plain": [
       "'\\nfor poem in all_poems:\\n    flag = False\\n    for line in poem:\\n        if len(line) != 12:\\n            flag = True\\n    if flag:\\n        i = all_poems.index(poem)\\n        del all_poems[i]\\n        del all_titles[i]\\n'"
      ]
     },
     "execution_count": 8,
     "metadata": {},
     "output_type": "execute_result"
    }
   ],
   "source": [
    "'''\n",
    "for poem in all_poems:\n",
    "    flag = False\n",
    "    for line in poem:\n",
    "        if len(line) != 12:\n",
    "            flag = True\n",
    "    if flag:\n",
    "        i = all_poems.index(poem)\n",
    "        del all_poems[i]\n",
    "        del all_titles[i]\n",
    "'''"
   ]
  },
  {
   "cell_type": "code",
   "execution_count": 9,
   "metadata": {},
   "outputs": [
    {
     "name": "stdout",
     "output_type": "stream",
     "text": [
      "蘇著作山池\n",
      "['水樹子雲家，峯瀛宛不賒。', '芥浮舟是葉，蓮發岫爲花。', '酌蟻開春甕，觀魚憑海查。', '游蘇多石友，題贈滿瑤華。']\n"
     ]
    }
   ],
   "source": [
    "print(all_titles[5000])\n",
    "print(all_poems[5000])"
   ]
  },
  {
   "cell_type": "code",
   "execution_count": 10,
   "metadata": {},
   "outputs": [
    {
     "name": "stdout",
     "output_type": "stream",
     "text": [
      "苏著作山池\n",
      "['水树子云家，峯瀛宛不赊。', '芥浮舟是叶，莲发岫为花。', '酌蚁开春甕，观鱼凭海查。', '游苏多石友，题赠满瑶华。']\n"
     ]
    }
   ],
   "source": [
    "all_titless = []\n",
    "for title in all_titles:\n",
    "    all_titless.append(Converter('zh-hans').convert(title))\n",
    "all_titles = all_titless\n",
    "del all_titless\n",
    "print(all_titles[5000])\n",
    "all_poemss = []\n",
    "for poem in all_poems:\n",
    "    poemss = []\n",
    "    for line in poem:\n",
    "        poemss.append(Converter('zh-hans').convert(line))\n",
    "    all_poemss.append(poemss)\n",
    "all_poems = all_poemss\n",
    "print(all_poems[5000])\n",
    "del all_poemss"
   ]
  },
  {
   "cell_type": "code",
   "execution_count": 11,
   "metadata": {},
   "outputs": [],
   "source": [
    "allTangPoetry = {}\n",
    "for i in range(len(all_poems)):\n",
    "    allTangPoetry[all_titles[i]] = all_poems[i]"
   ]
  },
  {
   "cell_type": "code",
   "execution_count": 12,
   "metadata": {},
   "outputs": [
    {
     "data": {
      "text/plain": [
       "24317"
      ]
     },
     "execution_count": 12,
     "metadata": {},
     "output_type": "execute_result"
    }
   ],
   "source": [
    "len(allTangPoetry)"
   ]
  },
  {
   "cell_type": "code",
   "execution_count": 13,
   "metadata": {
    "scrolled": true
   },
   "outputs": [],
   "source": [
    "#allTangPoetry\n",
    "deleteitem = []\n",
    "for name in allTangPoetry.keys():\n",
    "    for line in allTangPoetry[name]:\n",
    "        for word in line:\n",
    "            if word == '，' or word == '。':\n",
    "                continue\n",
    "            elif (u'\\u4e00' >= word) or (word >= u'\\u9fff'):\n",
    "                deleteitem.append(name)\n",
    "                #print(line)\n",
    "                break\n",
    "deleteitem = list(set(deleteitem))\n",
    "for name in deleteitem:\n",
    "    #print(name)\n",
    "    del allTangPoetry[name]"
   ]
  },
  {
   "cell_type": "code",
   "execution_count": 14,
   "metadata": {},
   "outputs": [],
   "source": [
    "poemstr = \"\"\n",
    "for poem in allTangPoetry:\n",
    "    poemstr += ' '.join(allTangPoetry[poem])\n",
    "poemstr = poemstr.split('，')\n",
    "poemstr = ' '.join(poemstr)\n",
    "poemstr = poemstr.split('。')\n",
    "poemstr = ' '.join(poemstr)\n",
    "poemstr = poemstr.split(' ')\n",
    "poemstr = ' '.join(poemstr)\n",
    "poemstr = poemstr.split(' ')\n",
    "poemstr = ' '.join(poemstr)\n",
    "wordlist = list(poemstr)\n",
    "for word in wordlist:\n",
    "    if word == '》':\n",
    "        print(word)\n",
    "    elif word == '《':\n",
    "        print(word)\n",
    "    elif word == '）':\n",
    "        print(word)\n",
    "    elif word == '：':\n",
    "        print(word)\n",
    "    elif (u'\\u4e00' >= word) or (word >= u'\\u9fff'):\n",
    "        if word == ' ':\n",
    "            continue\n",
    "        else:\n",
    "            print(word)"
   ]
  },
  {
   "cell_type": "code",
   "execution_count": 15,
   "metadata": {},
   "outputs": [
    {
     "data": {
      "text/plain": [
       "18118"
      ]
     },
     "execution_count": 15,
     "metadata": {},
     "output_type": "execute_result"
    }
   ],
   "source": [
    "len(allTangPoetry)"
   ]
  },
  {
   "cell_type": "code",
   "execution_count": 16,
   "metadata": {},
   "outputs": [
    {
     "data": {
      "text/plain": [
       "'\\nselected = random.sample(allTangPoetry.keys(),10000)\\n\\nselectedTangPoetry = {}\\nfor name in selected:\\n    selectedTangPoetry[name] = allTangPoetry[name]\\n\\n#selectedTangPoetry\\n\\nselecTitle = list(selectedTangPoetry.keys())\\nselectPoem = list(selectedTangPoetry.values())\\nprint(selecTitle[100])\\nprint(selectPoem[100])\\n\\nwith open(\\'./selecTitle.txt\\',\\'w\\',encoding=\\'utf8\\') as f:\\n    for title in selecTitle:\\n        f.write(title)\\n        f.write(\\'\\n\\')\\n\\nwith open(\\'./selectPoem.txt\\',\\'w\\',encoding=\\'utf8\\') as f:\\n    for poem in selectPoem:\\n        p = \" \".join(poem)\\n        f.write(p)\\n        f.write(\\'\\n\\')\\n'"
      ]
     },
     "execution_count": 16,
     "metadata": {},
     "output_type": "execute_result"
    }
   ],
   "source": [
    "'''\n",
    "selected = random.sample(allTangPoetry.keys(),10000)\n",
    "\n",
    "selectedTangPoetry = {}\n",
    "for name in selected:\n",
    "    selectedTangPoetry[name] = allTangPoetry[name]\n",
    "\n",
    "#selectedTangPoetry\n",
    "\n",
    "selecTitle = list(selectedTangPoetry.keys())\n",
    "selectPoem = list(selectedTangPoetry.values())\n",
    "print(selecTitle[100])\n",
    "print(selectPoem[100])\n",
    "\n",
    "with open('./selecTitle.txt','w',encoding='utf8') as f:\n",
    "    for title in selecTitle:\n",
    "        f.write(title)\n",
    "        f.write('\\n')\n",
    "\n",
    "with open('./selectPoem.txt','w',encoding='utf8') as f:\n",
    "    for poem in selectPoem:\n",
    "        p = \" \".join(poem)\n",
    "        f.write(p)\n",
    "        f.write('\\n')\n",
    "'''"
   ]
  },
  {
   "cell_type": "code",
   "execution_count": 17,
   "metadata": {},
   "outputs": [
    {
     "data": {
      "text/plain": [
       "'\\npoemstr = \"\"\\nfor poem in all_poems:\\n    poemstr += \\' \\'.join(poem)\\npoemstr = poemstr.split(\\'，\\')\\npoemstr = \\' \\'.join(poemstr)\\npoemstr = poemstr.split(\\'。\\')\\npoemstr = \\' \\'.join(poemstr)\\npoemstr = poemstr.split(\\' \\')\\npoemstr = \\' \\'.join(poemstr)\\npoemstr = poemstr.split(\\' \\')\\npoemstr = \\' \\'.join(poemstr)\\nwordlist = list(poemstr)\\n'"
      ]
     },
     "execution_count": 17,
     "metadata": {},
     "output_type": "execute_result"
    }
   ],
   "source": [
    "'''\n",
    "poemstr = \"\"\n",
    "for poem in all_poems:\n",
    "    poemstr += ' '.join(poem)\n",
    "poemstr = poemstr.split('，')\n",
    "poemstr = ' '.join(poemstr)\n",
    "poemstr = poemstr.split('。')\n",
    "poemstr = ' '.join(poemstr)\n",
    "poemstr = poemstr.split(' ')\n",
    "poemstr = ' '.join(poemstr)\n",
    "poemstr = poemstr.split(' ')\n",
    "poemstr = ' '.join(poemstr)\n",
    "wordlist = list(poemstr)\n",
    "'''"
   ]
  },
  {
   "cell_type": "code",
   "execution_count": 18,
   "metadata": {},
   "outputs": [],
   "source": [
    "#wordlist"
   ]
  },
  {
   "cell_type": "code",
   "execution_count": 19,
   "metadata": {},
   "outputs": [
    {
     "data": {
      "text/plain": [
       "\"\\nfor word in wordlist:\\n    if word == ' ':\\n        wordlist.remove(' ')\\n\""
      ]
     },
     "execution_count": 19,
     "metadata": {},
     "output_type": "execute_result"
    }
   ],
   "source": [
    "'''\n",
    "for word in wordlist:\n",
    "    if word == ' ':\n",
    "        wordlist.remove(' ')\n",
    "'''"
   ]
  },
  {
   "cell_type": "code",
   "execution_count": 20,
   "metadata": {},
   "outputs": [],
   "source": [
    "#len(wordlist)"
   ]
  },
  {
   "cell_type": "code",
   "execution_count": 21,
   "metadata": {},
   "outputs": [
    {
     "data": {
      "text/plain": [
       "'\\nwordcount = {}\\nfor word in wordlist:\\n    wordcount[word] = 0\\nfor word in wordlist:\\n    wordcount[word] += 1\\n'"
      ]
     },
     "execution_count": 21,
     "metadata": {},
     "output_type": "execute_result"
    }
   ],
   "source": [
    "'''\n",
    "wordcount = {}\n",
    "for word in wordlist:\n",
    "    wordcount[word] = 0\n",
    "for word in wordlist:\n",
    "    wordcount[word] += 1\n",
    "'''"
   ]
  },
  {
   "cell_type": "code",
   "execution_count": 22,
   "metadata": {},
   "outputs": [
    {
     "data": {
      "text/plain": [
       "'\\nde_wordcount = {}\\nde_word = list(set(list(wordcount.keys())))\\nfor word in de_word:\\n    de_wordcount[word] = wordcount[word]\\n'"
      ]
     },
     "execution_count": 22,
     "metadata": {},
     "output_type": "execute_result"
    }
   ],
   "source": [
    "'''\n",
    "de_wordcount = {}\n",
    "de_word = list(set(list(wordcount.keys())))\n",
    "for word in de_word:\n",
    "    de_wordcount[word] = wordcount[word]\n",
    "'''"
   ]
  },
  {
   "cell_type": "code",
   "execution_count": 23,
   "metadata": {},
   "outputs": [],
   "source": [
    "#wordrank = sorted(de_wordcount.items(), key = lambda kv:(kv[1], kv[0]))\n",
    "#wordrank"
   ]
  },
  {
   "cell_type": "code",
   "execution_count": 24,
   "metadata": {},
   "outputs": [],
   "source": [
    "#wordrank\n",
    "#import jieba\n",
    "#import jieba.posseg as pseg\n",
    "#jieba.posseg.dt"
   ]
  },
  {
   "cell_type": "code",
   "execution_count": 25,
   "metadata": {},
   "outputs": [
    {
     "data": {
      "text/plain": [
       "\"\\nwordrank.reverse()\\nnoun = []\\nfor (word,count) in wordrank:\\n    ws = pseg.cut(word)\\n    for w, s in ws:\\n        if s == 'n':\\n            noun.append(w)\\nTopword = noun[0:100]\\n\""
      ]
     },
     "execution_count": 25,
     "metadata": {},
     "output_type": "execute_result"
    }
   ],
   "source": [
    "'''\n",
    "wordrank.reverse()\n",
    "noun = []\n",
    "for (word,count) in wordrank:\n",
    "    ws = pseg.cut(word)\n",
    "    for w, s in ws:\n",
    "        if s == 'n':\n",
    "            noun.append(w)\n",
    "Topword = noun[0:100]\n",
    "'''"
   ]
  },
  {
   "cell_type": "code",
   "execution_count": 26,
   "metadata": {},
   "outputs": [],
   "source": [
    "#Topword"
   ]
  },
  {
   "cell_type": "code",
   "execution_count": 27,
   "metadata": {},
   "outputs": [],
   "source": [
    "Topword = [\n",
    "    '人','山','水','路','雨','草','石','光','酒','雪',\n",
    "    '衣','海','木','柳','霜','霞','星','眼','田','浪',\n",
    "    '船','帆','室','帝','兵','手','琴','僧','紫','花',\n",
    "]\n",
    "SearchKeys = {\n",
    "    '人':['人物','人像','人影'],'山':['山峰','高山','雄峰','峻岭'],'水':['流水','湖水','水池'],'路':['土路','道路','马路'],\n",
    "    '雨':['下雨','雨天','大雨','小雨'],'草':['野草','草坪','草原','草地'],'石':['落石','石头','顽石'],'光':['光芒','亮光'],\n",
    "    '酒':['美酒','白酒'],'雪':['雪花','白雪','雪地'],'衣':['衣服','衣裳','衣物'],'海':['大海','深海'],'木':['木头','树木'],\n",
    "    '柳':['垂柳','柳树','杨柳'],'霜':['冰霜'],'霞':['霞光','晚霞'],'星':['群星','星空'],'眼':['眼睛','眼神'],'田':['田野','园田'],\n",
    "    '浪':['浪花','海浪','波浪'],'船':['木船','小船','乌篷船'],'帆':['船帆','扬帆','帆布'],'室':['室内','房子'],'帝':['古代皇帝'],\n",
    "    '兵':['士兵','古代士兵','盔甲'],'手':['手掌','手指'],'琴':['木琴','古琴'],'僧':['僧人','僧侣','和尚'],'紫':['紫色'],'花':['花卉','鲜花','野花'],\n",
    "}\n",
    "\n",
    "#with open('./keywords.txt','w',encoding='utf-8') as f:\n",
    "#    for word in Topword:\n",
    "#        f.write(word)\n",
    "#        f.write(' ')"
   ]
  },
  {
   "cell_type": "code",
   "execution_count": 28,
   "metadata": {},
   "outputs": [],
   "source": [
    "Topoetry = {}\n",
    "for title, poem in allTangPoetry.items():\n",
    "    Topoetry[title] = []\n",
    "for word in Topword:\n",
    "    for title, poem in allTangPoetry.items():\n",
    "        flag = False\n",
    "        for line in poem:\n",
    "            if word in line:\n",
    "                flag = True\n",
    "                break\n",
    "        if flag:\n",
    "            Topoetry[title].append(word)\n",
    "T2K = {}\n",
    "for title in Topoetry.keys():\n",
    "    if len(Topoetry[title]) != 0:\n",
    "        T2K[title] = Topoetry[title]"
   ]
  },
  {
   "cell_type": "code",
   "execution_count": 29,
   "metadata": {},
   "outputs": [],
   "source": [
    "np.save('./title-keywords.npy', T2K) "
   ]
  },
  {
   "cell_type": "code",
   "execution_count": 30,
   "metadata": {},
   "outputs": [
    {
     "data": {
      "text/plain": [
       "['水', '石', '海', '花']"
      ]
     },
     "execution_count": 30,
     "metadata": {},
     "output_type": "execute_result"
    }
   ],
   "source": [
    "T2K['苏著作山池']"
   ]
  },
  {
   "cell_type": "code",
   "execution_count": 31,
   "metadata": {},
   "outputs": [
    {
     "data": {
      "text/plain": [
       "15957"
      ]
     },
     "execution_count": 31,
     "metadata": {},
     "output_type": "execute_result"
    }
   ],
   "source": [
    "len(T2K)"
   ]
  },
  {
   "cell_type": "code",
   "execution_count": 32,
   "metadata": {},
   "outputs": [],
   "source": [
    "TP = {}\n",
    "for title in T2K.keys():\n",
    "    TP[title] = allTangPoetry[title]"
   ]
  },
  {
   "cell_type": "code",
   "execution_count": 33,
   "metadata": {},
   "outputs": [
    {
     "data": {
      "text/plain": [
       "15957"
      ]
     },
     "execution_count": 33,
     "metadata": {},
     "output_type": "execute_result"
    }
   ],
   "source": [
    "len(TP)"
   ]
  },
  {
   "cell_type": "code",
   "execution_count": 34,
   "metadata": {},
   "outputs": [],
   "source": [
    "#TP"
   ]
  },
  {
   "cell_type": "code",
   "execution_count": 35,
   "metadata": {},
   "outputs": [],
   "source": [
    "np.save('./title-poem.npy',TP)"
   ]
  },
  {
   "cell_type": "code",
   "execution_count": 36,
   "metadata": {},
   "outputs": [],
   "source": [
    "#wordlist = list(de_wordcount.keys())\n",
    "#wordlist[0:10]"
   ]
  },
  {
   "cell_type": "code",
   "execution_count": 37,
   "metadata": {},
   "outputs": [],
   "source": [
    "#lazy_pinyin(wordlist[0:10], style=Style.FINALS)"
   ]
  },
  {
   "cell_type": "code",
   "execution_count": 38,
   "metadata": {},
   "outputs": [],
   "source": [
    "#tonelist = lazy_pinyin(wordlist, style=Style.FINALS)\n",
    "#word_tone = {}\n",
    "#for i in range(len(wordlist)):\n",
    "#    word_tone[wordlist[i]] = tonelist[i]\n",
    "#print(word_tone)"
   ]
  },
  {
   "cell_type": "code",
   "execution_count": 39,
   "metadata": {},
   "outputs": [],
   "source": [
    "#!pip install pypinyin\n",
    "#from pypinyin import load_phrases_dict, Style, load_single_dict, lazy_pinyin\n",
    "def choose_correct_word(pre_word, possible_list):\n",
    "    #from pypinyin import load_phrases_dict, Style, load_single_dict, lazy_pinyin\n",
    "    tone = lazy_pinyin(pre_word, style=Style.FINALS)\n",
    "    #print('tone is '+str(tone))\n",
    "    wordsd = lazy_pinyin(pre_word, style=Style.TONE3)\n",
    "    wordsd = wordsd[0][-1]\n",
    "    #print('wsd is '+ wordsd)\n",
    "    tonelist = lazy_pinyin(possible_list, style=Style.FINALS)\n",
    "    finalist = []\n",
    "    #保证押韵\n",
    "    for i in range(len(tonelist)):\n",
    "        if tone[0] == tonelist[i]:\n",
    "            finalist.append(possible_list[i])\n",
    "    #保证平仄\n",
    "    shengdiao = lazy_pinyin(finalist, style=Style.TONE3)\n",
    "    #print(shengdiao)\n",
    "    for i in range(len(shengdiao)):\n",
    "        if int(wordsd) <= 2:\n",
    "            if int(shengdiao[i][-1]) > 2:\n",
    "                #保证声母不同\n",
    "                if lazy_pinyin(pre_word, style=Style.INITIALS) != lazy_pinyin(finalist[i], style=Style.INITIALS):\n",
    "                    return finalist[i]\n",
    "        elif int(wordsd) > 2:\n",
    "            if int(shengdiao[i][-1]) <= 2:\n",
    "                if lazy_pinyin(pre_word, style=Style.INITIALS) != lazy_pinyin(finalist[i], style=Style.INITIALS):\n",
    "                    return finalist[i]"
   ]
  },
  {
   "cell_type": "code",
   "execution_count": 40,
   "metadata": {},
   "outputs": [],
   "source": [
    "#print(choose_correct_word('楼',wordlist[0:10]))"
   ]
  },
  {
   "cell_type": "code",
   "execution_count": 41,
   "metadata": {},
   "outputs": [],
   "source": [
    "#print(choose_correct_word('牟',wordlist[0:10]))"
   ]
  },
  {
   "cell_type": "code",
   "execution_count": null,
   "metadata": {},
   "outputs": [],
   "source": []
  }
 ],
 "metadata": {
  "kernelspec": {
   "display_name": "Python 3",
   "language": "python",
   "name": "python3"
  },
  "language_info": {
   "codemirror_mode": {
    "name": "ipython",
    "version": 3
   },
   "file_extension": ".py",
   "mimetype": "text/x-python",
   "name": "python",
   "nbconvert_exporter": "python",
   "pygments_lexer": "ipython3",
   "version": "3.6.12"
  }
 },
 "nbformat": 4,
 "nbformat_minor": 4
}
